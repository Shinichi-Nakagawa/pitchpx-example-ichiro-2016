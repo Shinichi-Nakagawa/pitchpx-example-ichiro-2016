{
 "cells": [
  {
   "cell_type": "code",
   "execution_count": 23,
   "metadata": {
    "collapsed": true
   },
   "outputs": [],
   "source": [
    "# Joey Votto analytics(2015-2016)\n",
    "\n",
    "# ライブラリのインポートと設定\n",
    "%matplotlib inline\n",
    "\n",
    "import pandas as pd\n",
    "import seaborn as sns\n",
    "import matplotlib.pyplot as plt\n",
    "\n",
    "pd.options.display.max_columns = 100\n",
    "pd.options.display.max_rows = 300"
   ]
  },
  {
   "cell_type": "code",
   "execution_count": 24,
   "metadata": {
    "collapsed": true
   },
   "outputs": [],
   "source": [
    "# 変化球の正式名称(あとで使う)\n",
    "\n",
    "PITCH_TYPE_NAME = {\n",
    "    'CH': 'Change-up',\n",
    "    'CU': 'Curveball',\n",
    "    'EP': 'Ephuus',\n",
    "    'FA': 'Fastball',\n",
    "    'FC': 'Cut Fastball',\n",
    "    'FF': 'four-seam Fastball',\n",
    "    'FO': 'Forkball',\n",
    "    'FS': 'Split-finger Fastball',\n",
    "    'FT': 'two-seam Fastball',\n",
    "    'KC': 'Knuckle Curve',\n",
    "    'KN': 'Knuckleball',\n",
    "    'SC': 'Screwball',\n",
    "    'SI': 'Sinker',\n",
    "    'SL': 'Slider',\n",
    "    'UN': 'Unknown'\n",
    "}"
   ]
  },
  {
   "cell_type": "code",
   "execution_count": 25,
   "metadata": {
    "collapsed": true
   },
   "outputs": [],
   "source": [
    "# 2015年の一年間および、2016年途中(開幕〜8/31まで)のデータセットを取る\n",
    "votto_atbat_2015 = pd.read_csv('./output/player_stats/joey_votto_2015_atbat.csv')\n",
    "votto_pitchfx_2015 = pd.read_csv('./output/player_stats/joey_votto_2015_pitch.csv')\n",
    "votto_atbat_2016 = pd.read_csv('./output/player_stats/joey_votto_2016_atbat.csv')\n",
    "votto_pitchfx_2016 = pd.read_csv('./output/player_stats/joey_votto_2016_pitch.csv')\n"
   ]
  },
  {
   "cell_type": "code",
   "execution_count": 26,
   "metadata": {
    "collapsed": true
   },
   "outputs": [],
   "source": [
    "# 時系列分析用に試合の日(game_day)および、変化球の正式名称を加える\n",
    "for df in (votto_atbat_2015, votto_atbat_2016, votto_pitchfx_2015, votto_pitchfx_2016):\n",
    "    df['game_day'] = pd.to_datetime(df[['year', 'month', 'day']])"
   ]
  },
  {
   "cell_type": "code",
   "execution_count": 27,
   "metadata": {
    "collapsed": true
   },
   "outputs": [],
   "source": [
    "# pitchfxデータから、ヒットとなった投球を抽出\n",
    "\n",
    "# 条件式(共通)\n",
    "QUERY_TEMPLATE = \"pitch_res == 'X' and pa_event_cd in [{}]\"\n",
    "\n",
    "# ヒットの条件(コード値はRETROSHEETの仕様に従う)\n",
    "query_hits = QUERY_TEMPLATE.format(','.join(['20', '21', '22', '23']))\n",
    "votto_pitchfx_2015_hits = votto_pitchfx_2015.query(query_hits)\n",
    "votto_pitchfx_2016_hits = votto_pitchfx_2016.query(query_hits)"
   ]
  },
  {
   "cell_type": "code",
   "execution_count": 28,
   "metadata": {
    "collapsed": false
   },
   "outputs": [
    {
     "data": {
      "text/html": [
       "<div>\n",
       "<table border=\"1\" class=\"dataframe\">\n",
       "  <thead>\n",
       "    <tr style=\"text-align: right;\">\n",
       "      <th></th>\n",
       "      <th>start_speed</th>\n",
       "      <th>end_speed</th>\n",
       "      <th>spin_rate</th>\n",
       "    </tr>\n",
       "  </thead>\n",
       "  <tbody>\n",
       "    <tr>\n",
       "      <th>count</th>\n",
       "      <td>168.000000</td>\n",
       "      <td>168.000000</td>\n",
       "      <td>168.000000</td>\n",
       "    </tr>\n",
       "    <tr>\n",
       "      <th>mean</th>\n",
       "      <td>88.904762</td>\n",
       "      <td>82.303571</td>\n",
       "      <td>1707.477292</td>\n",
       "    </tr>\n",
       "    <tr>\n",
       "      <th>std</th>\n",
       "      <td>5.484369</td>\n",
       "      <td>4.844280</td>\n",
       "      <td>583.200493</td>\n",
       "    </tr>\n",
       "    <tr>\n",
       "      <th>min</th>\n",
       "      <td>73.400000</td>\n",
       "      <td>68.300000</td>\n",
       "      <td>160.046000</td>\n",
       "    </tr>\n",
       "    <tr>\n",
       "      <th>25%</th>\n",
       "      <td>85.275000</td>\n",
       "      <td>79.300000</td>\n",
       "      <td>1362.092250</td>\n",
       "    </tr>\n",
       "    <tr>\n",
       "      <th>50%</th>\n",
       "      <td>90.450000</td>\n",
       "      <td>83.400000</td>\n",
       "      <td>1762.140000</td>\n",
       "    </tr>\n",
       "    <tr>\n",
       "      <th>75%</th>\n",
       "      <td>93.025000</td>\n",
       "      <td>85.925000</td>\n",
       "      <td>2086.731000</td>\n",
       "    </tr>\n",
       "    <tr>\n",
       "      <th>max</th>\n",
       "      <td>97.000000</td>\n",
       "      <td>89.600000</td>\n",
       "      <td>2935.263000</td>\n",
       "    </tr>\n",
       "  </tbody>\n",
       "</table>\n",
       "</div>"
      ],
      "text/plain": [
       "       start_speed   end_speed    spin_rate\n",
       "count   168.000000  168.000000   168.000000\n",
       "mean     88.904762   82.303571  1707.477292\n",
       "std       5.484369    4.844280   583.200493\n",
       "min      73.400000   68.300000   160.046000\n",
       "25%      85.275000   79.300000  1362.092250\n",
       "50%      90.450000   83.400000  1762.140000\n",
       "75%      93.025000   85.925000  2086.731000\n",
       "max      97.000000   89.600000  2935.263000"
      ]
     },
     "execution_count": 28,
     "metadata": {},
     "output_type": "execute_result"
    }
   ],
   "source": [
    "# まずは軽くDataframeを眺める\n",
    "\n",
    "# 初速・終速・回転数の統計を見てみる(2015)\n",
    "votto_pitchfx_2015_hits[['start_speed', 'end_speed', 'spin_rate']].describe()"
   ]
  },
  {
   "cell_type": "code",
   "execution_count": 29,
   "metadata": {
    "collapsed": false
   },
   "outputs": [
    {
     "data": {
      "text/html": [
       "<div>\n",
       "<table border=\"1\" class=\"dataframe\">\n",
       "  <thead>\n",
       "    <tr style=\"text-align: right;\">\n",
       "      <th></th>\n",
       "      <th>start_speed</th>\n",
       "      <th>end_speed</th>\n",
       "      <th>spin_rate</th>\n",
       "    </tr>\n",
       "  </thead>\n",
       "  <tbody>\n",
       "    <tr>\n",
       "      <th>count</th>\n",
       "      <td>137.000000</td>\n",
       "      <td>137.000000</td>\n",
       "      <td>137.000000</td>\n",
       "    </tr>\n",
       "    <tr>\n",
       "      <th>mean</th>\n",
       "      <td>89.026277</td>\n",
       "      <td>82.568613</td>\n",
       "      <td>1702.062401</td>\n",
       "    </tr>\n",
       "    <tr>\n",
       "      <th>std</th>\n",
       "      <td>5.925583</td>\n",
       "      <td>5.268214</td>\n",
       "      <td>518.460390</td>\n",
       "    </tr>\n",
       "    <tr>\n",
       "      <th>min</th>\n",
       "      <td>70.800000</td>\n",
       "      <td>65.700000</td>\n",
       "      <td>232.591000</td>\n",
       "    </tr>\n",
       "    <tr>\n",
       "      <th>25%</th>\n",
       "      <td>85.100000</td>\n",
       "      <td>79.200000</td>\n",
       "      <td>1388.268000</td>\n",
       "    </tr>\n",
       "    <tr>\n",
       "      <th>50%</th>\n",
       "      <td>91.100000</td>\n",
       "      <td>84.300000</td>\n",
       "      <td>1726.547000</td>\n",
       "    </tr>\n",
       "    <tr>\n",
       "      <th>75%</th>\n",
       "      <td>92.900000</td>\n",
       "      <td>86.200000</td>\n",
       "      <td>2124.984000</td>\n",
       "    </tr>\n",
       "    <tr>\n",
       "      <th>max</th>\n",
       "      <td>99.700000</td>\n",
       "      <td>91.700000</td>\n",
       "      <td>2794.557000</td>\n",
       "    </tr>\n",
       "  </tbody>\n",
       "</table>\n",
       "</div>"
      ],
      "text/plain": [
       "       start_speed   end_speed    spin_rate\n",
       "count   137.000000  137.000000   137.000000\n",
       "mean     89.026277   82.568613  1702.062401\n",
       "std       5.925583    5.268214   518.460390\n",
       "min      70.800000   65.700000   232.591000\n",
       "25%      85.100000   79.200000  1388.268000\n",
       "50%      91.100000   84.300000  1726.547000\n",
       "75%      92.900000   86.200000  2124.984000\n",
       "max      99.700000   91.700000  2794.557000"
      ]
     },
     "execution_count": 29,
     "metadata": {},
     "output_type": "execute_result"
    }
   ],
   "source": [
    "# 初速・終速・回転数の統計を見てみる(2016)\n",
    "votto_pitchfx_2016_hits[['start_speed', 'end_speed', 'spin_rate']].describe()"
   ]
  },
  {
   "cell_type": "code",
   "execution_count": 30,
   "metadata": {
    "collapsed": true
   },
   "outputs": [],
   "source": [
    "# ちょっとイマイチわかりにくいので軽く可視化してみる"
   ]
  },
  {
   "cell_type": "code",
   "execution_count": 31,
   "metadata": {
    "collapsed": false
   },
   "outputs": [],
   "source": [
    "# まずはヒットの傾向を探ってみる. ヒットに仕留めた変化球ごとに集計してみる\n",
    "pitch_types_2015 = votto_pitchfx_2015_hits.pitch_type.groupby(votto_pitchfx_2015_hits.pitch_type).count()\n",
    "pitch_types_2016 = votto_pitchfx_2016_hits.pitch_type.groupby(votto_pitchfx_2016_hits.pitch_type).count()"
   ]
  },
  {
   "cell_type": "code",
   "execution_count": 32,
   "metadata": {
    "collapsed": false
   },
   "outputs": [
    {
     "data": {
      "text/plain": [
       "<matplotlib.axes._subplots.AxesSubplot at 0x10af35400>"
      ]
     },
     "execution_count": 32,
     "metadata": {},
     "output_type": "execute_result"
    },
    {
     "data": {
      "image/png": "[encoded data removed]",
      "text/plain": [
       "<matplotlib.figure.Figure at 0x10c7ad7f0>"
      ]
     },
     "metadata": {},
     "output_type": "display_data"
    }
   ],
   "source": [
    "# ヒットにした変化球の割合(2015)\n",
    "pitch_types_2015.plot.pie(autopct='%.2f')\n"
   ]
  },
  {
   "cell_type": "code",
   "execution_count": 33,
   "metadata": {
    "collapsed": false
   },
   "outputs": [
    {
     "data": {
      "text/plain": [
       "<matplotlib.axes._subplots.AxesSubplot at 0x105310668>"
      ]
     },
     "execution_count": 33,
     "metadata": {},
     "output_type": "execute_result"
    },
    {
     "data": {
      "image/png": "[encoded data removed]",
      "text/plain": [
       "<matplotlib.figure.Figure at 0x10b2ab2b0>"
      ]
     },
     "metadata": {},
     "output_type": "display_data"
    }
   ],
   "source": [
    "# 速球系を中心に打ち込んでいる、2016年は?\n",
    "pitch_types_2016.plot.pie(autopct='%.2f')\n"
   ]
  },
  {
   "cell_type": "code",
   "execution_count": 34,
   "metadata": {
    "collapsed": true
   },
   "outputs": [],
   "source": [
    "# 多少変化球を打ってる以外変わらないかも...次はアウトになった時の変化球をみる\n",
    "query_outs = QUERY_TEMPLATE.format(','.join(['2']))\n",
    "votto_pitchfx_2015_outs = votto_pitchfx_2015.query(query_outs)\n",
    "votto_pitchfx_2016_outs = votto_pitchfx_2016.query(query_outs)"
   ]
  },
  {
   "cell_type": "code",
   "execution_count": 35,
   "metadata": {
    "collapsed": true
   },
   "outputs": [],
   "source": [
    "# アウトの傾向を探ってみる. ヒットに仕留めた変化球ごとに集計してみる\n",
    "pitch_types_2015_outs = votto_pitchfx_2015_outs.pitch_type.groupby(votto_pitchfx_2015_outs.pitch_type).count()\n",
    "pitch_types_2016_outs = votto_pitchfx_2016_outs.pitch_type.groupby(votto_pitchfx_2016_outs.pitch_type).count()"
   ]
  },
  {
   "cell_type": "code",
   "execution_count": 36,
   "metadata": {
    "collapsed": false
   },
   "outputs": [
    {
     "data": {
      "text/plain": [
       "<matplotlib.axes._subplots.AxesSubplot at 0x10a1ee208>"
      ]
     },
     "execution_count": 36,
     "metadata": {},
     "output_type": "execute_result"
    },
    {
     "data": {
      "image/png": "[encoded data removed]",
      "text/plain": [
       "<matplotlib.figure.Figure at 0x10a3d3940>"
      ]
     },
     "metadata": {},
     "output_type": "display_data"
    }
   ],
   "source": [
    "# アウトになった変化球の割合(2015)、速球系に苦戦してる\n",
    "pitch_types_2015_outs.plot.pie(autopct='%.2f')"
   ]
  },
  {
   "cell_type": "code",
   "execution_count": 37,
   "metadata": {
    "collapsed": false
   },
   "outputs": [
    {
     "data": {
      "text/plain": [
       "<matplotlib.axes._subplots.AxesSubplot at 0x105322e48>"
      ]
     },
     "execution_count": 37,
     "metadata": {},
     "output_type": "execute_result"
    },
    {
     "data": {
      "image/png": "[encoded data removed]",
      "text/plain": [
       "<matplotlib.figure.Figure at 0x105390240>"
      ]
     },
     "metadata": {},
     "output_type": "display_data"
    }
   ],
   "source": [
    "# アウトになった変化球の割合(2016)、変化球系にやられてる(ちょっと違いが出てきた！)\n",
    "pitch_types_2016_outs.plot.pie(autopct='%.2f')"
   ]
  },
  {
   "cell_type": "code",
   "execution_count": 38,
   "metadata": {
    "collapsed": false
   },
   "outputs": [
    {
     "data": {
      "text/plain": [
       "<matplotlib.axes._subplots.AxesSubplot at 0x10c299438>"
      ]
     },
     "execution_count": 38,
     "metadata": {},
     "output_type": "execute_result"
    },
    {
     "data": {
      "image/png": "[encoded data removed]",
      "text/plain": [
       "<matplotlib.figure.Figure at 0x10537df60>"
      ]
     },
     "metadata": {},
     "output_type": "display_data"
    }
   ],
   "source": [
    "# さらに詳しく、ヒットの傾向をみてみる.\n",
    "\n",
    "# X軸:球種 Y軸: 球速(初速)でヒット/アウトのゾーンを把握してみる\n",
    "\n",
    "# pa_event_cd(打席でのイベントID):は、 20:単打, 21:二塁打, 22:三塁打, 23:本塁打\n",
    "\n",
    "sns.stripplot(x='pa_event_cd', y='start_speed', data=votto_pitchfx_2015_hits,  hue='pitch_type', split=True, jitter=True)"
   ]
  },
  {
   "cell_type": "code",
   "execution_count": 39,
   "metadata": {
    "collapsed": false
   },
   "outputs": [
    {
     "ename": "NameError",
     "evalue": "name 'ichiro_pitchfx_2016_hits' is not defined",
     "output_type": "error",
     "traceback": [
      "\u001b[0;31m---------------------------------------------------------------------------\u001b[0m",
      "\u001b[0;31mNameError\u001b[0m                                 Traceback (most recent call last)",
      "\u001b[0;32m<ipython-input-39-3e23932a4401>\u001b[0m in \u001b[0;36m<module>\u001b[0;34m()\u001b[0m\n\u001b[1;32m      1\u001b[0m \u001b[0;31m# 同じ条件で2016年も見る\u001b[0m\u001b[0;34m\u001b[0m\u001b[0;34m\u001b[0m\u001b[0m\n\u001b[0;32m----> 2\u001b[0;31m \u001b[0msns\u001b[0m\u001b[0;34m.\u001b[0m\u001b[0mstripplot\u001b[0m\u001b[0;34m(\u001b[0m\u001b[0mx\u001b[0m\u001b[0;34m=\u001b[0m\u001b[0;34m'pitch_type'\u001b[0m\u001b[0;34m,\u001b[0m \u001b[0my\u001b[0m\u001b[0;34m=\u001b[0m\u001b[0;34m'start_speed'\u001b[0m\u001b[0;34m,\u001b[0m \u001b[0mdata\u001b[0m\u001b[0;34m=\u001b[0m\u001b[0michiro_pitchfx_2016_hits\u001b[0m\u001b[0;34m,\u001b[0m  \u001b[0mhue\u001b[0m\u001b[0;34m=\u001b[0m\u001b[0;34m'pa_event_cd'\u001b[0m\u001b[0;34m,\u001b[0m \u001b[0msplit\u001b[0m\u001b[0;34m=\u001b[0m\u001b[0;32mTrue\u001b[0m\u001b[0;34m,\u001b[0m \u001b[0mjitter\u001b[0m\u001b[0;34m=\u001b[0m\u001b[0;32mTrue\u001b[0m\u001b[0;34m)\u001b[0m\u001b[0;34m\u001b[0m\u001b[0m\n\u001b[0m",
      "\u001b[0;31mNameError\u001b[0m: name 'ichiro_pitchfx_2016_hits' is not defined"
     ]
    }
   ],
   "source": [
    "# 同じ条件で2016年も見る\n",
    "sns.stripplot(x='pitch_type', y='start_speed', data=ichiro_pitchfx_2016_hits,  hue='pa_event_cd', split=True, jitter=True)"
   ]
  },
  {
   "cell_type": "code",
   "execution_count": 19,
   "metadata": {
    "collapsed": false
   },
   "outputs": [
    {
     "data": {
      "text/html": [
       "<div>\n",
       "<table border=\"1\" class=\"dataframe\">\n",
       "  <thead>\n",
       "    <tr style=\"text-align: right;\">\n",
       "      <th></th>\n",
       "      <th>Unnamed: 0</th>\n",
       "      <th>Unnamed: 0.1</th>\n",
       "      <th>retro_game_id</th>\n",
       "      <th>year</th>\n",
       "      <th>month</th>\n",
       "      <th>day</th>\n",
       "      <th>st_fl</th>\n",
       "      <th>regseason_fl</th>\n",
       "      <th>playoff_fl</th>\n",
       "      <th>game_type</th>\n",
       "      <th>game_type_des</th>\n",
       "      <th>local_game_time</th>\n",
       "      <th>game_id</th>\n",
       "      <th>home_team_id</th>\n",
       "      <th>away_team_id</th>\n",
       "      <th>home_team_lg</th>\n",
       "      <th>away_team_lg</th>\n",
       "      <th>interleague_fl</th>\n",
       "      <th>park_id</th>\n",
       "      <th>park_name</th>\n",
       "      <th>park_location</th>\n",
       "      <th>inning_number</th>\n",
       "      <th>bat_home_id</th>\n",
       "      <th>outs_ct</th>\n",
       "      <th>pit_mlbid</th>\n",
       "      <th>pit_first_name</th>\n",
       "      <th>pit_last_name</th>\n",
       "      <th>pit_box_name</th>\n",
       "      <th>pit_hand_cd</th>\n",
       "      <th>bat_mlbid</th>\n",
       "      <th>bat_first_name</th>\n",
       "      <th>bat_last_name</th>\n",
       "      <th>bat_box_name</th>\n",
       "      <th>bat_hand_cd</th>\n",
       "      <th>ab_number</th>\n",
       "      <th>start_bases</th>\n",
       "      <th>end_bases</th>\n",
       "      <th>event_outs_ct</th>\n",
       "      <th>pa_ball_ct</th>\n",
       "      <th>pa_strike_ct</th>\n",
       "      <th>pitch_seq</th>\n",
       "      <th>pa_terminal_fl</th>\n",
       "      <th>pa_event_cd</th>\n",
       "      <th>pitch_res</th>\n",
       "      <th>pitch_des</th>\n",
       "      <th>pitch_id</th>\n",
       "      <th>x</th>\n",
       "      <th>y</th>\n",
       "      <th>start_speed</th>\n",
       "      <th>end_speed</th>\n",
       "      <th>sz_top</th>\n",
       "      <th>sz_bot</th>\n",
       "      <th>pfx_x</th>\n",
       "      <th>pfx_z</th>\n",
       "      <th>px</th>\n",
       "      <th>pz</th>\n",
       "      <th>x0</th>\n",
       "      <th>y0</th>\n",
       "      <th>z0</th>\n",
       "      <th>vx0</th>\n",
       "      <th>vy0</th>\n",
       "      <th>vz0</th>\n",
       "      <th>ax</th>\n",
       "      <th>ay</th>\n",
       "      <th>az</th>\n",
       "      <th>break_y</th>\n",
       "      <th>break_angle</th>\n",
       "      <th>break_length</th>\n",
       "      <th>pitch_type</th>\n",
       "      <th>pitch_type_seq</th>\n",
       "      <th>type_confidence</th>\n",
       "      <th>zone</th>\n",
       "      <th>spin_dir</th>\n",
       "      <th>spin_rate</th>\n",
       "      <th>sv_id</th>\n",
       "      <th>game_day</th>\n",
       "    </tr>\n",
       "  </thead>\n",
       "  <tbody>\n",
       "    <tr>\n",
       "      <th>723</th>\n",
       "      <td>362869</td>\n",
       "      <td>2904</td>\n",
       "      <td>ATL201607020</td>\n",
       "      <td>2016</td>\n",
       "      <td>7</td>\n",
       "      <td>2</td>\n",
       "      <td>F</td>\n",
       "      <td>T</td>\n",
       "      <td>F</td>\n",
       "      <td>R</td>\n",
       "      <td>Regular Season</td>\n",
       "      <td>16:10</td>\n",
       "      <td>448081</td>\n",
       "      <td>atl</td>\n",
       "      <td>mia</td>\n",
       "      <td>NL</td>\n",
       "      <td>NL</td>\n",
       "      <td>F</td>\n",
       "      <td>16</td>\n",
       "      <td>Turner Field</td>\n",
       "      <td>Atlanta, GA</td>\n",
       "      <td>3</td>\n",
       "      <td>0</td>\n",
       "      <td>2</td>\n",
       "      <td>449173</td>\n",
       "      <td>Lucas</td>\n",
       "      <td>Harrell</td>\n",
       "      <td>Harrell, L</td>\n",
       "      <td>R</td>\n",
       "      <td>400085</td>\n",
       "      <td>Ichiro</td>\n",
       "      <td>Suzuki</td>\n",
       "      <td>Suzuki, I</td>\n",
       "      <td>L</td>\n",
       "      <td>19</td>\n",
       "      <td>_2_</td>\n",
       "      <td>__3</td>\n",
       "      <td>2</td>\n",
       "      <td>2</td>\n",
       "      <td>2</td>\n",
       "      <td>SSBBX</td>\n",
       "      <td>T</td>\n",
       "      <td>22</td>\n",
       "      <td>X</td>\n",
       "      <td>In play, run(s)</td>\n",
       "      <td>144</td>\n",
       "      <td>140.98</td>\n",
       "      <td>179.89</td>\n",
       "      <td>82.8</td>\n",
       "      <td>77.4</td>\n",
       "      <td>3.39</td>\n",
       "      <td>1.46</td>\n",
       "      <td>-8.00</td>\n",
       "      <td>6.65</td>\n",
       "      <td>-0.629</td>\n",
       "      <td>2.181</td>\n",
       "      <td>-2.433</td>\n",
       "      <td>50.0</td>\n",
       "      <td>6.030</td>\n",
       "      <td>6.846</td>\n",
       "      <td>-121.087</td>\n",
       "      <td>-4.670</td>\n",
       "      <td>-12.064</td>\n",
       "      <td>20.291</td>\n",
       "      <td>-22.077</td>\n",
       "      <td>23.9</td>\n",
       "      <td>25.7</td>\n",
       "      <td>6.8</td>\n",
       "      <td>CH</td>\n",
       "      <td>FT|SL|CU|FT|CH</td>\n",
       "      <td>0.905</td>\n",
       "      <td>4.0</td>\n",
       "      <td>230.071</td>\n",
       "      <td>1884.877</td>\n",
       "      <td>160702_164701</td>\n",
       "      <td>2016-07-02</td>\n",
       "    </tr>\n",
       "    <tr>\n",
       "      <th>946</th>\n",
       "      <td>493517</td>\n",
       "      <td>2256</td>\n",
       "      <td>COL201608070</td>\n",
       "      <td>2016</td>\n",
       "      <td>8</td>\n",
       "      <td>7</td>\n",
       "      <td>F</td>\n",
       "      <td>T</td>\n",
       "      <td>F</td>\n",
       "      <td>R</td>\n",
       "      <td>Regular Season</td>\n",
       "      <td>14:10</td>\n",
       "      <td>448525</td>\n",
       "      <td>col</td>\n",
       "      <td>mia</td>\n",
       "      <td>NL</td>\n",
       "      <td>NL</td>\n",
       "      <td>F</td>\n",
       "      <td>19</td>\n",
       "      <td>Coors Field</td>\n",
       "      <td>Denver, CO</td>\n",
       "      <td>7</td>\n",
       "      <td>0</td>\n",
       "      <td>1</td>\n",
       "      <td>543734</td>\n",
       "      <td>Chris</td>\n",
       "      <td>Rusin</td>\n",
       "      <td>Rusin</td>\n",
       "      <td>L</td>\n",
       "      <td>400085</td>\n",
       "      <td>Ichiro</td>\n",
       "      <td>Suzuki</td>\n",
       "      <td>Suzuki, I</td>\n",
       "      <td>L</td>\n",
       "      <td>60</td>\n",
       "      <td>___</td>\n",
       "      <td>__3</td>\n",
       "      <td>1</td>\n",
       "      <td>2</td>\n",
       "      <td>0</td>\n",
       "      <td>BBX</td>\n",
       "      <td>T</td>\n",
       "      <td>22</td>\n",
       "      <td>X</td>\n",
       "      <td>In play, no out</td>\n",
       "      <td>499</td>\n",
       "      <td>116.73</td>\n",
       "      <td>175.49</td>\n",
       "      <td>86.1</td>\n",
       "      <td>80.8</td>\n",
       "      <td>3.39</td>\n",
       "      <td>1.46</td>\n",
       "      <td>2.86</td>\n",
       "      <td>2.38</td>\n",
       "      <td>0.007</td>\n",
       "      <td>2.344</td>\n",
       "      <td>2.015</td>\n",
       "      <td>50.0</td>\n",
       "      <td>5.919</td>\n",
       "      <td>-5.971</td>\n",
       "      <td>-126.155</td>\n",
       "      <td>-3.343</td>\n",
       "      <td>4.691</td>\n",
       "      <td>21.671</td>\n",
       "      <td>-28.199</td>\n",
       "      <td>23.9</td>\n",
       "      <td>-7.4</td>\n",
       "      <td>7.1</td>\n",
       "      <td>FC</td>\n",
       "      <td>FC|SI|FC</td>\n",
       "      <td>0.894</td>\n",
       "      <td>5.0</td>\n",
       "      <td>130.278</td>\n",
       "      <td>707.097</td>\n",
       "      <td>160807_163801</td>\n",
       "      <td>2016-08-07</td>\n",
       "    </tr>\n",
       "  </tbody>\n",
       "</table>\n",
       "</div>"
      ],
      "text/plain": [
       "     Unnamed: 0  Unnamed: 0.1 retro_game_id  year  month  day st_fl  \\\n",
       "723      362869          2904  ATL201607020  2016      7    2     F   \n",
       "946      493517          2256  COL201608070  2016      8    7     F   \n",
       "\n",
       "    regseason_fl playoff_fl game_type   game_type_des local_game_time  \\\n",
       "723            T          F         R  Regular Season           16:10   \n",
       "946            T          F         R  Regular Season           14:10   \n",
       "\n",
       "     game_id home_team_id away_team_id home_team_lg away_team_lg  \\\n",
       "723   448081          atl          mia           NL           NL   \n",
       "946   448525          col          mia           NL           NL   \n",
       "\n",
       "    interleague_fl  park_id     park_name park_location  inning_number  \\\n",
       "723              F       16  Turner Field   Atlanta, GA              3   \n",
       "946              F       19   Coors Field    Denver, CO              7   \n",
       "\n",
       "     bat_home_id  outs_ct  pit_mlbid pit_first_name pit_last_name  \\\n",
       "723            0        2     449173          Lucas       Harrell   \n",
       "946            0        1     543734          Chris         Rusin   \n",
       "\n",
       "    pit_box_name pit_hand_cd  bat_mlbid bat_first_name bat_last_name  \\\n",
       "723   Harrell, L           R     400085         Ichiro        Suzuki   \n",
       "946        Rusin           L     400085         Ichiro        Suzuki   \n",
       "\n",
       "    bat_box_name bat_hand_cd  ab_number start_bases end_bases  event_outs_ct  \\\n",
       "723    Suzuki, I           L         19         _2_       __3              2   \n",
       "946    Suzuki, I           L         60         ___       __3              1   \n",
       "\n",
       "     pa_ball_ct  pa_strike_ct pitch_seq pa_terminal_fl  pa_event_cd pitch_res  \\\n",
       "723           2             2     SSBBX              T           22         X   \n",
       "946           2             0       BBX              T           22         X   \n",
       "\n",
       "           pitch_des  pitch_id       x       y  start_speed  end_speed  \\\n",
       "723  In play, run(s)       144  140.98  179.89         82.8       77.4   \n",
       "946  In play, no out       499  116.73  175.49         86.1       80.8   \n",
       "\n",
       "     sz_top  sz_bot  pfx_x  pfx_z     px     pz     x0    y0     z0    vx0  \\\n",
       "723    3.39    1.46  -8.00   6.65 -0.629  2.181 -2.433  50.0  6.030  6.846   \n",
       "946    3.39    1.46   2.86   2.38  0.007  2.344  2.015  50.0  5.919 -5.971   \n",
       "\n",
       "         vy0    vz0      ax      ay      az  break_y  break_angle  \\\n",
       "723 -121.087 -4.670 -12.064  20.291 -22.077     23.9         25.7   \n",
       "946 -126.155 -3.343   4.691  21.671 -28.199     23.9         -7.4   \n",
       "\n",
       "     break_length pitch_type  pitch_type_seq  type_confidence  zone  spin_dir  \\\n",
       "723           6.8         CH  FT|SL|CU|FT|CH            0.905   4.0   230.071   \n",
       "946           7.1         FC        FC|SI|FC            0.894   5.0   130.278   \n",
       "\n",
       "     spin_rate          sv_id   game_day  \n",
       "723   1884.877  160702_164701 2016-07-02  \n",
       "946    707.097  160807_163801 2016-08-07  "
      ]
     },
     "execution_count": 19,
     "metadata": {},
     "output_type": "execute_result"
    }
   ],
   "source": [
    "# 2016年の三塁打はCH(チェンジアップ)とFC(Cut Fastball)を打ち込んでるっぽい、興味深いので見てみる\n",
    "ichiro_pitchfx_2016_hits.query('pa_event_cd == 22')"
   ]
  },
  {
   "cell_type": "code",
   "execution_count": null,
   "metadata": {
    "collapsed": true
   },
   "outputs": [],
   "source": []
  }
 ],
 "metadata": {
  "kernelspec": {
   "display_name": "Python 3",
   "language": "python",
   "name": "python3"
  },
  "language_info": {
   "codemirror_mode": {
    "name": "ipython",
    "version": 3
   },
   "file_extension": ".py",
   "mimetype": "text/x-python",
   "name": "python",
   "nbconvert_exporter": "python",
   "pygments_lexer": "ipython3",
   "version": "3.5.2"
  }
 },
 "nbformat": 4,
 "nbformat_minor": 1
}
