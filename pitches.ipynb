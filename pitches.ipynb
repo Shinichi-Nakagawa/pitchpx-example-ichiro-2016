{
 "cells": [
  {
   "cell_type": "code",
   "execution_count": 10,
   "metadata": {
    "collapsed": false,
    "run_control": {
     "frozen": false,
     "read_only": false
    }
   },
   "outputs": [],
   "source": [
    "import time\n",
    "import random\n",
    "import numpy as np\n",
    "import pandas as pd\n",
    "\n",
    "from bokeh.io import push_notebook, show, output_notebook\n",
    "from bokeh.plotting import figure\n",
    "\n",
    "from IPython.display import display\n",
    "import ipywidgets as widgets"
   ]
  },
  {
   "cell_type": "code",
   "execution_count": 11,
   "metadata": {
    "collapsed": false,
    "run_control": {
     "frozen": false,
     "read_only": false
    }
   },
   "outputs": [],
   "source": [
    "# サンプルデータ(ダミー)\n",
    "pitches_colors = {\n",
    "    'Four-seam Fastball': 'Black',\n",
    "    'Two-seam Fastball': 'DimGray',\n",
    "    'Cutter': 'CadetBlue',\n",
    "    'Splitter': 'Coral',\n",
    "    'Forkball': 'Crimson',\n",
    "    'Curveball': 'Gold',\n",
    "    'Slider': 'Indigo',\n",
    "    'Slurve': 'LawnGreen',\n",
    "    'Screwball': 'Orange',\n",
    "    'Changeup': 'Orchid',\n",
    "    'Palmball': 'SaddleBrown',\n",
    "    'Circle Changeup': 'PaleVioletRed'\n",
    "}\n",
    "\n",
    "df = pd.DataFrame(np.random.randint(0, 100, (100, 2)))\n",
    "df.columns = ['x', 'y']\n",
    "df['speed'] = np.random.randint(80, 160, 100)\n",
    "df['pitches'] = [random.choice(list(pitches_colors.keys())) for x in df.index]"
   ]
  },
  {
   "cell_type": "code",
   "execution_count": 12,
   "metadata": {
    "collapsed": false
   },
   "outputs": [
    {
     "data": {
      "text/html": [
       "\n",
       "    <div class=\"bk-root\">\n",
       "        <a href=\"http://bokeh.pydata.org\" target=\"_blank\" class=\"bk-logo bk-logo-small bk-logo-notebook\"></a>\n",
       "        <span id=\"bf36f8d9-f12d-4c16-9939-22a6783fe47f\">Loading BokehJS ...</span>\n",
       "    </div>"
      ]
     },
     "metadata": {},
     "output_type": "display_data"
    },
    {
     "data": {
      "application/javascript": [
       "\n",
       "(function(global) {\n",
       "  function now() {\n",
       "    return new Date();\n",
       "  }\n",
       "\n",
       "  var force = \"1\";\n",
       "\n",
       "  if (typeof (window._bokeh_onload_callbacks) === \"undefined\" || force !== \"\") {\n",
       "    window._bokeh_onload_callbacks = [];\n",
       "    window._bokeh_is_loading = undefined;\n",
       "  }\n",
       "\n",
       "\n",
       "  \n",
       "  if (typeof (window._bokeh_timeout) === \"undefined\" || force !== \"\") {\n",
       "    window._bokeh_timeout = Date.now() + 5000;\n",
       "    window._bokeh_failed_load = false;\n",
       "  }\n",
       "\n",
       "  var NB_LOAD_WARNING = {'data': {'text/html':\n",
       "     \"<div style='background-color: #fdd'>\\n\"+\n",
       "     \"<p>\\n\"+\n",
       "     \"BokehJS does not appear to have successfully loaded. If loading BokehJS from CDN, this \\n\"+\n",
       "     \"may be due to a slow or bad network connection. Possible fixes:\\n\"+\n",
       "     \"</p>\\n\"+\n",
       "     \"<ul>\\n\"+\n",
       "     \"<li>re-rerun `output_notebook()` to attempt to load from CDN again, or</li>\\n\"+\n",
       "     \"<li>use INLINE resources instead, as so:</li>\\n\"+\n",
       "     \"</ul>\\n\"+\n",
       "     \"<code>\\n\"+\n",
       "     \"from bokeh.resources import INLINE\\n\"+\n",
       "     \"output_notebook(resources=INLINE)\\n\"+\n",
       "     \"</code>\\n\"+\n",
       "     \"</div>\"}};\n",
       "\n",
       "  function display_loaded() {\n",
       "    if (window.Bokeh !== undefined) {\n",
       "      Bokeh.$(\"#bf36f8d9-f12d-4c16-9939-22a6783fe47f\").text(\"BokehJS successfully loaded.\");\n",
       "    } else if (Date.now() < window._bokeh_timeout) {\n",
       "      setTimeout(display_loaded, 100)\n",
       "    }\n",
       "  }\n",
       "\n",
       "  function run_callbacks() {\n",
       "    window._bokeh_onload_callbacks.forEach(function(callback) { callback() });\n",
       "    delete window._bokeh_onload_callbacks\n",
       "    console.info(\"Bokeh: all callbacks have finished\");\n",
       "  }\n",
       "\n",
       "  function load_libs(js_urls, callback) {\n",
       "    window._bokeh_onload_callbacks.push(callback);\n",
       "    if (window._bokeh_is_loading > 0) {\n",
       "      console.log(\"Bokeh: BokehJS is being loaded, scheduling callback at\", now());\n",
       "      return null;\n",
       "    }\n",
       "    if (js_urls == null || js_urls.length === 0) {\n",
       "      run_callbacks();\n",
       "      return null;\n",
       "    }\n",
       "    console.log(\"Bokeh: BokehJS not loaded, scheduling load and callback at\", now());\n",
       "    window._bokeh_is_loading = js_urls.length;\n",
       "    for (var i = 0; i < js_urls.length; i++) {\n",
       "      var url = js_urls[i];\n",
       "      var s = document.createElement('script');\n",
       "      s.src = url;\n",
       "      s.async = false;\n",
       "      s.onreadystatechange = s.onload = function() {\n",
       "        window._bokeh_is_loading--;\n",
       "        if (window._bokeh_is_loading === 0) {\n",
       "          console.log(\"Bokeh: all BokehJS libraries loaded\");\n",
       "          run_callbacks()\n",
       "        }\n",
       "      };\n",
       "      s.onerror = function() {\n",
       "        console.warn(\"failed to load library \" + url);\n",
       "      };\n",
       "      console.log(\"Bokeh: injecting script tag for BokehJS library: \", url);\n",
       "      document.getElementsByTagName(\"head\")[0].appendChild(s);\n",
       "    }\n",
       "  };var element = document.getElementById(\"bf36f8d9-f12d-4c16-9939-22a6783fe47f\");\n",
       "  if (element == null) {\n",
       "    console.log(\"Bokeh: ERROR: autoload.js configured with elementid 'bf36f8d9-f12d-4c16-9939-22a6783fe47f' but no matching script tag was found. \")\n",
       "    return false;\n",
       "  }\n",
       "\n",
       "  var js_urls = ['https://cdn.pydata.org/bokeh/release/bokeh-0.12.3.min.js', 'https://cdn.pydata.org/bokeh/release/bokeh-widgets-0.12.3.min.js'];\n",
       "\n",
       "  var inline_js = [\n",
       "    function(Bokeh) {\n",
       "      Bokeh.set_log_level(\"info\");\n",
       "    },\n",
       "    \n",
       "    function(Bokeh) {\n",
       "      \n",
       "      Bokeh.$(\"#bf36f8d9-f12d-4c16-9939-22a6783fe47f\").text(\"BokehJS is loading...\");\n",
       "    },\n",
       "    function(Bokeh) {\n",
       "      console.log(\"Bokeh: injecting CSS: https://cdn.pydata.org/bokeh/release/bokeh-0.12.3.min.css\");\n",
       "      Bokeh.embed.inject_css(\"https://cdn.pydata.org/bokeh/release/bokeh-0.12.3.min.css\");\n",
       "      console.log(\"Bokeh: injecting CSS: https://cdn.pydata.org/bokeh/release/bokeh-widgets-0.12.3.min.css\");\n",
       "      Bokeh.embed.inject_css(\"https://cdn.pydata.org/bokeh/release/bokeh-widgets-0.12.3.min.css\");\n",
       "    }\n",
       "  ];\n",
       "\n",
       "  function run_inline_js() {\n",
       "    \n",
       "    if ((window.Bokeh !== undefined) || (force === \"1\")) {\n",
       "      for (var i = 0; i < inline_js.length; i++) {\n",
       "        inline_js[i](window.Bokeh);\n",
       "      }if (force === \"1\") {\n",
       "        display_loaded();\n",
       "      }} else if (Date.now() < window._bokeh_timeout) {\n",
       "      setTimeout(run_inline_js, 100);\n",
       "    } else if (!window._bokeh_failed_load) {\n",
       "      console.log(\"Bokeh: BokehJS failed to load within specified timeout.\");\n",
       "      window._bokeh_failed_load = true;\n",
       "    } else if (!force) {\n",
       "      var cell = $(\"#bf36f8d9-f12d-4c16-9939-22a6783fe47f\").parents('.cell').data().cell;\n",
       "      cell.output_area.append_execute_result(NB_LOAD_WARNING)\n",
       "    }\n",
       "\n",
       "  }\n",
       "\n",
       "  if (window._bokeh_is_loading === 0) {\n",
       "    console.log(\"Bokeh: BokehJS loaded, going straight to plotting\");\n",
       "    run_inline_js();\n",
       "  } else {\n",
       "    load_libs(js_urls, function() {\n",
       "      console.log(\"Bokeh: BokehJS plotting callback run at\", now());\n",
       "      run_inline_js();\n",
       "    });\n",
       "  }\n",
       "}(this));"
      ]
     },
     "metadata": {},
     "output_type": "display_data"
    }
   ],
   "source": [
    "# %matplotlib inline みたいな処理\n",
    "output_notebook()\n",
    "\n",
    "# グラフの初期化\n",
    "opts = dict(plot_width=250, plot_height=250, min_border=0)\n",
    "xy_range = df['x'].min(), df['x'].max()\n",
    "p = figure(**opts, x_range=(xy_range), y_range=(xy_range))\n",
    "p.line([20, 20, 80, 80, 20],\n",
    "       [20, 80, 80, 20, 20],\n",
    "       line_width=4, color=\"firebrick\")\n",
    "\n",
    "# 直近\n",
    "size0 = df.loc[0, 'speed'] / 5\n",
    "r = p.circle([df.loc[0, 'x']], [df.loc[0, 'y']],\n",
    "             size=size0, line_color=None)\n",
    "# 一投前\n",
    "r1 = p.circle_x([df.loc[0, 'x']], [df.loc[0, 'y']],\n",
    "                size=size0, line_color='Black')\n",
    "# 二投前\n",
    "r2 = p.circle_cross([df.loc[0, 'x']], [df.loc[0, 'y']],\n",
    "                    size=size0, line_color='Black')"
   ]
  },
  {
   "cell_type": "code",
   "execution_count": 13,
   "metadata": {
    "collapsed": false,
    "run_control": {
     "frozen": false,
     "read_only": false
    }
   },
   "outputs": [],
   "source": [
    "def draw(n):\n",
    "    def plot_pitches(i, renderer):\n",
    "        x, y, speed, pitches = df.loc[i]\n",
    "        renderer.data_source.data['x'] = [x]\n",
    "        renderer.data_source.data['y'] = [y]\n",
    "        renderer.glyph.size = speed / 5\n",
    "        renderer.glyph.fill_color = pitches_colors[pitches]\n",
    "\n",
    "    x, y, speed, pitches = df.loc[n]\n",
    "    plot_pitches(n, r)\n",
    "    p.title.text = '{}: {}km/h'.format(pitches, speed)\n",
    "\n",
    "    if n > 1:\n",
    "        plot_pitches(n - 2, r2)\n",
    "\n",
    "    if n:\n",
    "        plot_pitches(n - 1, r1)\n",
    "\n",
    "    # handle=t がポイント、tで描画したセルをハンドリング\n",
    "    push_notebook(handle=t)"
   ]
  },
  {
   "cell_type": "code",
   "execution_count": 6,
   "metadata": {
    "collapsed": false,
    "run_control": {
     "frozen": false,
     "read_only": false
    }
   },
   "outputs": [],
   "source": [
    "# ipywidgetsのUI\n",
    "slider = widgets.SelectionSlider(\n",
    "    options=list(df.index.map(str)),\n",
    "    value='0',\n",
    "    description='num',\n",
    "    disabled=False,\n",
    "    continuous_update=False,\n",
    "    orientation='horizontal',\n",
    "    readout=True, )\n",
    "\n",
    "\n",
    "def on_value_change(change):\n",
    "    n = int(change['new'])\n",
    "    draw(n)\n",
    "\n",
    "\n",
    "slider.observe(on_value_change, names='value')"
   ]
  },
  {
   "cell_type": "code",
   "execution_count": 7,
   "metadata": {
    "collapsed": false,
    "run_control": {
     "frozen": false,
     "read_only": false
    }
   },
   "outputs": [
    {
     "data": {
      "text/html": [
       "\n",
       "\n",
       "    <div class=\"bk-root\">\n",
       "        <div class=\"plotdiv\" id=\"0e9f4f4f-1b0f-4d14-b0c1-f839cdb6ceb5\"></div>\n",
       "    </div>\n",
       "<script type=\"text/javascript\">\n",
       "  \n",
       "  (function(global) {\n",
       "    function now() {\n",
       "      return new Date();\n",
       "    }\n",
       "  \n",
       "    var force = \"\";\n",
       "  \n",
       "    if (typeof (window._bokeh_onload_callbacks) === \"undefined\" || force !== \"\") {\n",
       "      window._bokeh_onload_callbacks = [];\n",
       "      window._bokeh_is_loading = undefined;\n",
       "    }\n",
       "  \n",
       "  \n",
       "    \n",
       "    if (typeof (window._bokeh_timeout) === \"undefined\" || force !== \"\") {\n",
       "      window._bokeh_timeout = Date.now() + 0;\n",
       "      window._bokeh_failed_load = false;\n",
       "    }\n",
       "  \n",
       "    var NB_LOAD_WARNING = {'data': {'text/html':\n",
       "       \"<div style='background-color: #fdd'>\\n\"+\n",
       "       \"<p>\\n\"+\n",
       "       \"BokehJS does not appear to have successfully loaded. If loading BokehJS from CDN, this \\n\"+\n",
       "       \"may be due to a slow or bad network connection. Possible fixes:\\n\"+\n",
       "       \"</p>\\n\"+\n",
       "       \"<ul>\\n\"+\n",
       "       \"<li>re-rerun `output_notebook()` to attempt to load from CDN again, or</li>\\n\"+\n",
       "       \"<li>use INLINE resources instead, as so:</li>\\n\"+\n",
       "       \"</ul>\\n\"+\n",
       "       \"<code>\\n\"+\n",
       "       \"from bokeh.resources import INLINE\\n\"+\n",
       "       \"output_notebook(resources=INLINE)\\n\"+\n",
       "       \"</code>\\n\"+\n",
       "       \"</div>\"}};\n",
       "  \n",
       "    function display_loaded() {\n",
       "      if (window.Bokeh !== undefined) {\n",
       "        Bokeh.$(\"#0e9f4f4f-1b0f-4d14-b0c1-f839cdb6ceb5\").text(\"BokehJS successfully loaded.\");\n",
       "      } else if (Date.now() < window._bokeh_timeout) {\n",
       "        setTimeout(display_loaded, 100)\n",
       "      }\n",
       "    }if ((window.Jupyter !== undefined) && Jupyter.notebook.kernel) {\n",
       "      comm_manager = Jupyter.notebook.kernel.comm_manager\n",
       "      comm_manager.register_target(\"9d6aa30f-a7d9-43e5-bf88-0b653c1f0e17\", function () {});\n",
       "    }\n",
       "  \n",
       "    function run_callbacks() {\n",
       "      window._bokeh_onload_callbacks.forEach(function(callback) { callback() });\n",
       "      delete window._bokeh_onload_callbacks\n",
       "      console.info(\"Bokeh: all callbacks have finished\");\n",
       "    }\n",
       "  \n",
       "    function load_libs(js_urls, callback) {\n",
       "      window._bokeh_onload_callbacks.push(callback);\n",
       "      if (window._bokeh_is_loading > 0) {\n",
       "        console.log(\"Bokeh: BokehJS is being loaded, scheduling callback at\", now());\n",
       "        return null;\n",
       "      }\n",
       "      if (js_urls == null || js_urls.length === 0) {\n",
       "        run_callbacks();\n",
       "        return null;\n",
       "      }\n",
       "      console.log(\"Bokeh: BokehJS not loaded, scheduling load and callback at\", now());\n",
       "      window._bokeh_is_loading = js_urls.length;\n",
       "      for (var i = 0; i < js_urls.length; i++) {\n",
       "        var url = js_urls[i];\n",
       "        var s = document.createElement('script');\n",
       "        s.src = url;\n",
       "        s.async = false;\n",
       "        s.onreadystatechange = s.onload = function() {\n",
       "          window._bokeh_is_loading--;\n",
       "          if (window._bokeh_is_loading === 0) {\n",
       "            console.log(\"Bokeh: all BokehJS libraries loaded\");\n",
       "            run_callbacks()\n",
       "          }\n",
       "        };\n",
       "        s.onerror = function() {\n",
       "          console.warn(\"failed to load library \" + url);\n",
       "        };\n",
       "        console.log(\"Bokeh: injecting script tag for BokehJS library: \", url);\n",
       "        document.getElementsByTagName(\"head\")[0].appendChild(s);\n",
       "      }\n",
       "    };var element = document.getElementById(\"0e9f4f4f-1b0f-4d14-b0c1-f839cdb6ceb5\");\n",
       "    if (element == null) {\n",
       "      console.log(\"Bokeh: ERROR: autoload.js configured with elementid '0e9f4f4f-1b0f-4d14-b0c1-f839cdb6ceb5' but no matching script tag was found. \")\n",
       "      return false;\n",
       "    }\n",
       "  \n",
       "    var js_urls = [];\n",
       "  \n",
       "    var inline_js = [\n",
       "      function(Bokeh) {\n",
       "        Bokeh.$(function() {\n",
       "            var docs_json = {\"0bcb84fc-b076-4540-a5c5-c24fea7e693f\":{\"roots\":{\"references\":[{\"attributes\":{\"callback\":null,\"end\":99},\"id\":\"0a97bc92-52fa-4be8-af18-644690278945\",\"type\":\"Range1d\"},{\"attributes\":{\"fill_color\":{\"value\":\"#1f77b4\"},\"line_color\":{\"value\":null},\"size\":{\"units\":\"screen\",\"value\":24.2},\"x\":{\"field\":\"x\"},\"y\":{\"field\":\"y\"}},\"id\":\"efb98d9b-439a-46fb-b515-9446b1b9d613\",\"type\":\"Circle\"},{\"attributes\":{},\"id\":\"16c0b5bc-14ec-4961-a42e-28fbd80c68f3\",\"type\":\"BasicTickFormatter\"},{\"attributes\":{},\"id\":\"4688d55a-2ab7-41c2-8695-70d2c5236377\",\"type\":\"ToolEvents\"},{\"attributes\":{\"plot\":{\"id\":\"723998cc-e01d-40ea-a579-a54a7fb09fcd\",\"subtype\":\"Figure\",\"type\":\"Plot\"}},\"id\":\"dca3b6d2-646e-42aa-96bd-b5af1fd92d89\",\"type\":\"HelpTool\"},{\"attributes\":{\"plot\":{\"id\":\"723998cc-e01d-40ea-a579-a54a7fb09fcd\",\"subtype\":\"Figure\",\"type\":\"Plot\"}},\"id\":\"09e64116-b36a-41a2-ba78-48afa6bf8d06\",\"type\":\"WheelZoomTool\"},{\"attributes\":{\"data_source\":{\"id\":\"d11f7391-0ce8-41e8-80c7-ad91c8048e8d\",\"type\":\"ColumnDataSource\"},\"glyph\":{\"id\":\"9f356ac8-c7f0-48eb-94e5-6ff517fbb92f\",\"type\":\"CircleCross\"},\"hover_glyph\":null,\"nonselection_glyph\":{\"id\":\"fa325053-fd05-433a-b04e-76752b0d4d20\",\"type\":\"CircleCross\"},\"selection_glyph\":null},\"id\":\"236c1a7c-4833-445e-9912-eb6f9109cce9\",\"type\":\"GlyphRenderer\"},{\"attributes\":{\"callback\":null,\"column_names\":[\"y\",\"x\"],\"data\":{\"x\":[56],\"y\":[27]}},\"id\":\"d11f7391-0ce8-41e8-80c7-ad91c8048e8d\",\"type\":\"ColumnDataSource\"},{\"attributes\":{\"data_source\":{\"id\":\"f8306021-49f4-4f64-9afb-057ec5ff2d43\",\"type\":\"ColumnDataSource\"},\"glyph\":{\"id\":\"c4d490d0-30bb-4557-9264-37e266c3ad63\",\"type\":\"CircleX\"},\"hover_glyph\":null,\"nonselection_glyph\":{\"id\":\"6cface47-8cfc-4c30-92cd-73b7ab0230f6\",\"type\":\"CircleX\"},\"selection_glyph\":null},\"id\":\"79a4e222-93a7-4bde-86ce-80b68f49d4c7\",\"type\":\"GlyphRenderer\"},{\"attributes\":{},\"id\":\"460d414c-16a7-49ea-ba6c-d3091ecdddf2\",\"type\":\"BasicTicker\"},{\"attributes\":{\"plot\":{\"id\":\"723998cc-e01d-40ea-a579-a54a7fb09fcd\",\"subtype\":\"Figure\",\"type\":\"Plot\"}},\"id\":\"482dfba3-a4a5-40ab-927e-c654d98b8c6f\",\"type\":\"PanTool\"},{\"attributes\":{\"dimension\":1,\"plot\":{\"id\":\"723998cc-e01d-40ea-a579-a54a7fb09fcd\",\"subtype\":\"Figure\",\"type\":\"Plot\"},\"ticker\":{\"id\":\"460d414c-16a7-49ea-ba6c-d3091ecdddf2\",\"type\":\"BasicTicker\"}},\"id\":\"95e3114e-6166-4fed-904d-7cc79aa0dd37\",\"type\":\"Grid\"},{\"attributes\":{\"data_source\":{\"id\":\"845d15b4-7752-40f9-b371-cf6343bf50f7\",\"type\":\"ColumnDataSource\"},\"glyph\":{\"id\":\"efb98d9b-439a-46fb-b515-9446b1b9d613\",\"type\":\"Circle\"},\"hover_glyph\":null,\"nonselection_glyph\":{\"id\":\"77349293-eaa0-45bc-96d5-6c3a86cafc9b\",\"type\":\"Circle\"},\"selection_glyph\":null},\"id\":\"c13f743e-fa28-42a4-87da-661e8ea35d4e\",\"type\":\"GlyphRenderer\"},{\"attributes\":{\"callback\":null,\"column_names\":[\"y\",\"x\"],\"data\":{\"x\":[56],\"y\":[27]}},\"id\":\"845d15b4-7752-40f9-b371-cf6343bf50f7\",\"type\":\"ColumnDataSource\"},{\"attributes\":{\"plot\":null,\"text\":null},\"id\":\"b0264e76-f36b-4703-873a-0024495abd44\",\"type\":\"Title\"},{\"attributes\":{\"active_drag\":\"auto\",\"active_scroll\":\"auto\",\"active_tap\":\"auto\",\"tools\":[{\"id\":\"482dfba3-a4a5-40ab-927e-c654d98b8c6f\",\"type\":\"PanTool\"},{\"id\":\"09e64116-b36a-41a2-ba78-48afa6bf8d06\",\"type\":\"WheelZoomTool\"},{\"id\":\"dafc00b8-526d-421c-8334-b8abf96dedc7\",\"type\":\"BoxZoomTool\"},{\"id\":\"b8d8eb94-4ed8-4521-b428-d67bfa7e9302\",\"type\":\"SaveTool\"},{\"id\":\"30f2e6f9-fc93-49ed-b5a1-65221678498a\",\"type\":\"ResetTool\"},{\"id\":\"dca3b6d2-646e-42aa-96bd-b5af1fd92d89\",\"type\":\"HelpTool\"}]},\"id\":\"94551e9a-07dd-488e-8a29-4ad69553e220\",\"type\":\"Toolbar\"},{\"attributes\":{\"line_color\":{\"value\":\"firebrick\"},\"line_width\":{\"value\":4},\"x\":{\"field\":\"x\"},\"y\":{\"field\":\"y\"}},\"id\":\"4259c20a-5460-4945-b93d-328357916e69\",\"type\":\"Line\"},{\"attributes\":{\"plot\":{\"id\":\"723998cc-e01d-40ea-a579-a54a7fb09fcd\",\"subtype\":\"Figure\",\"type\":\"Plot\"},\"ticker\":{\"id\":\"2ea0274a-d4f0-443c-9410-6d6822d17c9b\",\"type\":\"BasicTicker\"}},\"id\":\"7c6b8346-189c-41cc-a110-41014a1101af\",\"type\":\"Grid\"},{\"attributes\":{\"callback\":null,\"column_names\":[\"y\",\"x\"],\"data\":{\"x\":[56],\"y\":[27]}},\"id\":\"f8306021-49f4-4f64-9afb-057ec5ff2d43\",\"type\":\"ColumnDataSource\"},{\"attributes\":{\"callback\":null,\"column_names\":[\"y\",\"x\"],\"data\":{\"x\":[20,20,80,80,20],\"y\":[20,80,80,20,20]}},\"id\":\"c6ad66d2-c6aa-41c6-9ace-eb9bf3469ddc\",\"type\":\"ColumnDataSource\"},{\"attributes\":{\"plot\":{\"id\":\"723998cc-e01d-40ea-a579-a54a7fb09fcd\",\"subtype\":\"Figure\",\"type\":\"Plot\"}},\"id\":\"b8d8eb94-4ed8-4521-b428-d67bfa7e9302\",\"type\":\"SaveTool\"},{\"attributes\":{\"fill_alpha\":{\"value\":0.1},\"fill_color\":{\"value\":\"#1f77b4\"},\"line_alpha\":{\"value\":0.1},\"line_color\":{\"value\":\"#1f77b4\"},\"size\":{\"units\":\"screen\",\"value\":24.2},\"x\":{\"field\":\"x\"},\"y\":{\"field\":\"y\"}},\"id\":\"6cface47-8cfc-4c30-92cd-73b7ab0230f6\",\"type\":\"CircleX\"},{\"attributes\":{},\"id\":\"bb7bc235-fac7-44d2-9dd9-4956a4ddc4c4\",\"type\":\"BasicTickFormatter\"},{\"attributes\":{\"overlay\":{\"id\":\"60fdddd3-6473-4223-9d3f-b7a4e6fe0bdd\",\"type\":\"BoxAnnotation\"},\"plot\":{\"id\":\"723998cc-e01d-40ea-a579-a54a7fb09fcd\",\"subtype\":\"Figure\",\"type\":\"Plot\"}},\"id\":\"dafc00b8-526d-421c-8334-b8abf96dedc7\",\"type\":\"BoxZoomTool\"},{\"attributes\":{\"fill_color\":{\"value\":\"#1f77b4\"},\"line_color\":{\"value\":\"Black\"},\"size\":{\"units\":\"screen\",\"value\":24.2},\"x\":{\"field\":\"x\"},\"y\":{\"field\":\"y\"}},\"id\":\"9f356ac8-c7f0-48eb-94e5-6ff517fbb92f\",\"type\":\"CircleCross\"},{\"attributes\":{\"callback\":null,\"end\":99},\"id\":\"447f70f7-d87f-4110-ba9e-e11e3f0c0dba\",\"type\":\"Range1d\"},{\"attributes\":{\"formatter\":{\"id\":\"bb7bc235-fac7-44d2-9dd9-4956a4ddc4c4\",\"type\":\"BasicTickFormatter\"},\"plot\":{\"id\":\"723998cc-e01d-40ea-a579-a54a7fb09fcd\",\"subtype\":\"Figure\",\"type\":\"Plot\"},\"ticker\":{\"id\":\"2ea0274a-d4f0-443c-9410-6d6822d17c9b\",\"type\":\"BasicTicker\"}},\"id\":\"7193f98b-31ca-4f4e-ace3-dace906bb52f\",\"type\":\"LinearAxis\"},{\"attributes\":{\"line_alpha\":{\"value\":0.1},\"line_color\":{\"value\":\"#1f77b4\"},\"line_width\":{\"value\":4},\"x\":{\"field\":\"x\"},\"y\":{\"field\":\"y\"}},\"id\":\"7b34d706-9031-4c75-a014-9982cce85419\",\"type\":\"Line\"},{\"attributes\":{\"plot\":{\"id\":\"723998cc-e01d-40ea-a579-a54a7fb09fcd\",\"subtype\":\"Figure\",\"type\":\"Plot\"}},\"id\":\"30f2e6f9-fc93-49ed-b5a1-65221678498a\",\"type\":\"ResetTool\"},{\"attributes\":{},\"id\":\"2ea0274a-d4f0-443c-9410-6d6822d17c9b\",\"type\":\"BasicTicker\"},{\"attributes\":{\"formatter\":{\"id\":\"16c0b5bc-14ec-4961-a42e-28fbd80c68f3\",\"type\":\"BasicTickFormatter\"},\"plot\":{\"id\":\"723998cc-e01d-40ea-a579-a54a7fb09fcd\",\"subtype\":\"Figure\",\"type\":\"Plot\"},\"ticker\":{\"id\":\"460d414c-16a7-49ea-ba6c-d3091ecdddf2\",\"type\":\"BasicTicker\"}},\"id\":\"0cfb672d-4a91-4294-9175-2f6d16258819\",\"type\":\"LinearAxis\"},{\"attributes\":{\"below\":[{\"id\":\"7193f98b-31ca-4f4e-ace3-dace906bb52f\",\"type\":\"LinearAxis\"}],\"left\":[{\"id\":\"0cfb672d-4a91-4294-9175-2f6d16258819\",\"type\":\"LinearAxis\"}],\"min_border\":0,\"plot_height\":250,\"plot_width\":250,\"renderers\":[{\"id\":\"7193f98b-31ca-4f4e-ace3-dace906bb52f\",\"type\":\"LinearAxis\"},{\"id\":\"7c6b8346-189c-41cc-a110-41014a1101af\",\"type\":\"Grid\"},{\"id\":\"0cfb672d-4a91-4294-9175-2f6d16258819\",\"type\":\"LinearAxis\"},{\"id\":\"95e3114e-6166-4fed-904d-7cc79aa0dd37\",\"type\":\"Grid\"},{\"id\":\"60fdddd3-6473-4223-9d3f-b7a4e6fe0bdd\",\"type\":\"BoxAnnotation\"},{\"id\":\"333e18d2-032d-4678-90bf-a91579aa5b82\",\"type\":\"GlyphRenderer\"},{\"id\":\"c13f743e-fa28-42a4-87da-661e8ea35d4e\",\"type\":\"GlyphRenderer\"},{\"id\":\"79a4e222-93a7-4bde-86ce-80b68f49d4c7\",\"type\":\"GlyphRenderer\"},{\"id\":\"236c1a7c-4833-445e-9912-eb6f9109cce9\",\"type\":\"GlyphRenderer\"}],\"title\":{\"id\":\"b0264e76-f36b-4703-873a-0024495abd44\",\"type\":\"Title\"},\"tool_events\":{\"id\":\"4688d55a-2ab7-41c2-8695-70d2c5236377\",\"type\":\"ToolEvents\"},\"toolbar\":{\"id\":\"94551e9a-07dd-488e-8a29-4ad69553e220\",\"type\":\"Toolbar\"},\"x_range\":{\"id\":\"447f70f7-d87f-4110-ba9e-e11e3f0c0dba\",\"type\":\"Range1d\"},\"y_range\":{\"id\":\"0a97bc92-52fa-4be8-af18-644690278945\",\"type\":\"Range1d\"}},\"id\":\"723998cc-e01d-40ea-a579-a54a7fb09fcd\",\"subtype\":\"Figure\",\"type\":\"Plot\"},{\"attributes\":{\"fill_alpha\":{\"value\":0.1},\"fill_color\":{\"value\":\"#1f77b4\"},\"line_alpha\":{\"value\":0.1},\"line_color\":{\"value\":\"#1f77b4\"},\"size\":{\"units\":\"screen\",\"value\":24.2},\"x\":{\"field\":\"x\"},\"y\":{\"field\":\"y\"}},\"id\":\"fa325053-fd05-433a-b04e-76752b0d4d20\",\"type\":\"CircleCross\"},{\"attributes\":{\"data_source\":{\"id\":\"c6ad66d2-c6aa-41c6-9ace-eb9bf3469ddc\",\"type\":\"ColumnDataSource\"},\"glyph\":{\"id\":\"4259c20a-5460-4945-b93d-328357916e69\",\"type\":\"Line\"},\"hover_glyph\":null,\"nonselection_glyph\":{\"id\":\"7b34d706-9031-4c75-a014-9982cce85419\",\"type\":\"Line\"},\"selection_glyph\":null},\"id\":\"333e18d2-032d-4678-90bf-a91579aa5b82\",\"type\":\"GlyphRenderer\"},{\"attributes\":{\"fill_alpha\":{\"value\":0.1},\"fill_color\":{\"value\":\"#1f77b4\"},\"line_alpha\":{\"value\":0.1},\"line_color\":{\"value\":\"#1f77b4\"},\"size\":{\"units\":\"screen\",\"value\":24.2},\"x\":{\"field\":\"x\"},\"y\":{\"field\":\"y\"}},\"id\":\"77349293-eaa0-45bc-96d5-6c3a86cafc9b\",\"type\":\"Circle\"},{\"attributes\":{\"fill_color\":{\"value\":\"#1f77b4\"},\"line_color\":{\"value\":\"Black\"},\"size\":{\"units\":\"screen\",\"value\":24.2},\"x\":{\"field\":\"x\"},\"y\":{\"field\":\"y\"}},\"id\":\"c4d490d0-30bb-4557-9264-37e266c3ad63\",\"type\":\"CircleX\"},{\"attributes\":{\"bottom_units\":\"screen\",\"fill_alpha\":{\"value\":0.5},\"fill_color\":{\"value\":\"lightgrey\"},\"left_units\":\"screen\",\"level\":\"overlay\",\"line_alpha\":{\"value\":1.0},\"line_color\":{\"value\":\"black\"},\"line_dash\":[4,4],\"line_width\":{\"value\":2},\"plot\":null,\"render_mode\":\"css\",\"right_units\":\"screen\",\"top_units\":\"screen\"},\"id\":\"60fdddd3-6473-4223-9d3f-b7a4e6fe0bdd\",\"type\":\"BoxAnnotation\"}],\"root_ids\":[\"723998cc-e01d-40ea-a579-a54a7fb09fcd\"]},\"title\":\"Bokeh Application\",\"version\":\"0.12.3\"}};\n",
       "            var render_items = [{\"docid\":\"0bcb84fc-b076-4540-a5c5-c24fea7e693f\",\"elementid\":\"0e9f4f4f-1b0f-4d14-b0c1-f839cdb6ceb5\",\"modelid\":\"723998cc-e01d-40ea-a579-a54a7fb09fcd\",\"notebook_comms_target\":\"9d6aa30f-a7d9-43e5-bf88-0b653c1f0e17\"}];\n",
       "            \n",
       "            Bokeh.embed.embed_items(docs_json, render_items);\n",
       "        });\n",
       "      },\n",
       "      function(Bokeh) {\n",
       "      }\n",
       "    ];\n",
       "  \n",
       "    function run_inline_js() {\n",
       "      \n",
       "      if ((window.Bokeh !== undefined) || (force === \"1\")) {\n",
       "        for (var i = 0; i < inline_js.length; i++) {\n",
       "          inline_js[i](window.Bokeh);\n",
       "        }if (force === \"1\") {\n",
       "          display_loaded();\n",
       "        }} else if (Date.now() < window._bokeh_timeout) {\n",
       "        setTimeout(run_inline_js, 100);\n",
       "      } else if (!window._bokeh_failed_load) {\n",
       "        console.log(\"Bokeh: BokehJS failed to load within specified timeout.\");\n",
       "        window._bokeh_failed_load = true;\n",
       "      } else if (!force) {\n",
       "        var cell = $(\"#0e9f4f4f-1b0f-4d14-b0c1-f839cdb6ceb5\").parents('.cell').data().cell;\n",
       "        cell.output_area.append_execute_result(NB_LOAD_WARNING)\n",
       "      }\n",
       "  \n",
       "    }\n",
       "  \n",
       "    if (window._bokeh_is_loading === 0) {\n",
       "      console.log(\"Bokeh: BokehJS loaded, going straight to plotting\");\n",
       "      run_inline_js();\n",
       "    } else {\n",
       "      load_libs(js_urls, function() {\n",
       "        console.log(\"Bokeh: BokehJS plotting callback run at\", now());\n",
       "        run_inline_js();\n",
       "      });\n",
       "    }\n",
       "  }(this));\n",
       "</script>"
      ]
     },
     "metadata": {},
     "output_type": "display_data"
    }
   ],
   "source": [
    "# notebook_handle=True をつけることで、あとで書き換えられる\n",
    "t = show(p, notebook_handle=True)"
   ]
  },
  {
   "cell_type": "code",
   "execution_count": 8,
   "metadata": {
    "collapsed": false,
    "run_control": {
     "frozen": false,
     "read_only": false
    }
   },
   "outputs": [],
   "source": [
    "display(slider)"
   ]
  },
  {
   "cell_type": "code",
   "execution_count": 9,
   "metadata": {
    "collapsed": false,
    "run_control": {
     "frozen": false,
     "read_only": false
    }
   },
   "outputs": [],
   "source": [
    "# 1秒毎にアニメーション\n",
    "for x in df.index[:30]:\n",
    "    draw(x)\n",
    "    time.sleep(1)"
   ]
  },
  {
   "cell_type": "code",
   "execution_count": null,
   "metadata": {
    "collapsed": true,
    "run_control": {
     "frozen": false,
     "read_only": false
    }
   },
   "outputs": [],
   "source": []
  }
 ],
 "metadata": {
  "kernelspec": {
   "display_name": "Python 3",
   "language": "python",
   "name": "python3"
  },
  "language_info": {
   "codemirror_mode": {
    "name": "ipython",
    "version": 3
   },
   "file_extension": ".py",
   "mimetype": "text/x-python",
   "name": "python",
   "nbconvert_exporter": "python",
   "pygments_lexer": "ipython3",
   "version": "3.5.2"
  },
  "widgets": {
   "state": {
    "765eb0012f344a958e4a027565629a80": {
     "views": [
      {
       "cell_index": 7
      }
     ]
    }
   },
   "version": "1.2.0"
  }
 },
 "nbformat": 4,
 "nbformat_minor": 1
}
