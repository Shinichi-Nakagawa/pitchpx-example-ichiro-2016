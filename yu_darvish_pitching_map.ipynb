{
 "cells": [
  {
   "cell_type": "code",
   "execution_count": 1,
   "metadata": {
    "collapsed": true
   },
   "outputs": [],
   "source": [
    "%matplotlib inline"
   ]
  },
  {
   "cell_type": "code",
   "execution_count": 2,
   "metadata": {
    "collapsed": true
   },
   "outputs": [],
   "source": [
    "import pandas as pd"
   ]
  },
  {
   "cell_type": "code",
   "execution_count": 3,
   "metadata": {
    "collapsed": true
   },
   "outputs": [],
   "source": [
    "pd.options.display.max_rows = 100\n",
    "pd.options.display.max_columns = 100"
   ]
  },
  {
   "cell_type": "code",
   "execution_count": 4,
   "metadata": {
    "collapsed": true
   },
   "outputs": [],
   "source": [
    "df = pd.read_csv('./output/player_stats/yu_darvish_2016_pitch.csv')"
   ]
  },
  {
   "cell_type": "code",
   "execution_count": 5,
   "metadata": {
    "collapsed": false
   },
   "outputs": [
    {
     "data": {
      "text/plain": [
       "1122"
      ]
     },
     "execution_count": 5,
     "metadata": {},
     "output_type": "execute_result"
    }
   ],
   "source": [
    "len(df)"
   ]
  },
  {
   "cell_type": "code",
   "execution_count": 14,
   "metadata": {
    "collapsed": false
   },
   "outputs": [
    {
     "data": {
      "text/plain": [
       "Index(['Unnamed: 0', 'Unnamed: 0.1', 'retro_game_id', 'year', 'month', 'day',\n",
       "       'st_fl', 'regseason_fl', 'playoff_fl', 'game_type', 'game_type_des',\n",
       "       'local_game_time', 'game_id', 'home_team_id', 'away_team_id',\n",
       "       'home_team_lg', 'away_team_lg', 'interleague_fl', 'park_id',\n",
       "       'park_name', 'park_location', 'inning_number', 'bat_home_id', 'outs_ct',\n",
       "       'pit_mlbid', 'pit_first_name', 'pit_last_name', 'pit_box_name',\n",
       "       'pit_hand_cd', 'bat_mlbid', 'bat_first_name', 'bat_last_name',\n",
       "       'bat_box_name', 'bat_hand_cd', 'ab_number', 'start_bases', 'end_bases',\n",
       "       'event_outs_ct', 'pa_ball_ct', 'pa_strike_ct', 'pitch_seq',\n",
       "       'pa_terminal_fl', 'pa_event_cd', 'pitch_res', 'pitch_des', 'pitch_id',\n",
       "       'x', 'y', 'start_speed', 'end_speed', 'sz_top', 'sz_bot', 'pfx_x',\n",
       "       'pfx_z', 'px', 'pz', 'x0', 'y0', 'z0', 'vx0', 'vy0', 'vz0', 'ax', 'ay',\n",
       "       'az', 'break_y', 'break_angle', 'break_length', 'pitch_type',\n",
       "       'pitch_type_seq', 'type_confidence', 'zone', 'spin_dir', 'spin_rate',\n",
       "       'sv_id'],\n",
       "      dtype='object')"
      ]
     },
     "execution_count": 14,
     "metadata": {},
     "output_type": "execute_result"
    }
   ],
   "source": [
    "df.columns"
   ]
  },
  {
   "cell_type": "code",
   "execution_count": 20,
   "metadata": {
    "collapsed": false
   },
   "outputs": [],
   "source": [
    "df_tex201608170 = df.query('year==2016 and month==8 and day==17')\n",
    "df_columns = ['inning_number', 'outs_ct', 'bat_box_name', 'ab_number', 'pa_event_cd', 'pitch_seq', 'pitch_res', 'start_speed', 'end_speed', 'sz_top', 'sz_bot', 'px', 'pz', 'pitch_type', 'pitch_type_seq', 'zone']"
   ]
  },
  {
   "cell_type": "code",
   "execution_count": 25,
   "metadata": {
    "collapsed": false
   },
   "outputs": [],
   "source": [
    "df_tex201608170_davis_k = df_tex201608170[df_columns].query('inning_number==1 and bat_box_name==\"Davis, K\"')"
   ]
  },
  {
   "cell_type": "code",
   "execution_count": 41,
   "metadata": {
    "collapsed": false
   },
   "outputs": [],
   "source": [
    "import seaborn as sns\n"
   ]
  },
  {
   "cell_type": "code",
   "execution_count": 42,
   "metadata": {
    "collapsed": false
   },
   "outputs": [
    {
     "data": {
      "text/plain": [
       "[1.196,\n",
       " 1.9119999999999999,\n",
       " 1.006,\n",
       " 3.8930000000000002,\n",
       " 2.8239999999999998,\n",
       " 2.4950000000000001]"
      ]
     },
     "execution_count": 42,
     "metadata": {},
     "output_type": "execute_result"
    }
   ],
   "source": [
    "list(df_tex201608170_davis_k['pz'])"
   ]
  },
  {
   "cell_type": "code",
   "execution_count": 43,
   "metadata": {
    "collapsed": false
   },
   "outputs": [
    {
     "data": {
      "text/plain": [
       "824   -0.801\n",
       "825   -0.920\n",
       "826   -0.697\n",
       "827   -0.892\n",
       "828    0.194\n",
       "829   -1.464\n",
       "Name: px, dtype: float64"
      ]
     },
     "execution_count": 43,
     "metadata": {},
     "output_type": "execute_result"
    }
   ],
   "source": [
    "df_tex201608170_davis_k['px']"
   ]
  },
  {
   "cell_type": "code",
   "execution_count": 44,
   "metadata": {
    "collapsed": false
   },
   "outputs": [
    {
     "data": {
      "text/plain": [
       "<matplotlib.axes._subplots.AxesSubplot at 0x10d1d5a20>"
      ]
     },
     "execution_count": 44,
     "metadata": {},
     "output_type": "execute_result"
    },
    {
     "data": {
      "image/png": "[encoded data removed]",
      "text/plain": [
       "<matplotlib.figure.Figure at 0x10d1e29b0>"
      ]
     },
     "metadata": {},
     "output_type": "display_data"
    }
   ],
   "source": [
    "ax = df_tex201608170_davis_k.query('pitch_res==\"S\"').plot.scatter(x='px', y='pz', color='red', label='Strike');\n",
    "df_tex201608170_davis_k.query('pitch_res==\"B\"').plot.scatter(x='px', y='pz', color='green', label='Ball', ax=ax)"
   ]
  },
  {
   "cell_type": "code",
   "execution_count": 38,
   "metadata": {
    "collapsed": false
   },
   "outputs": [
    {
     "data": {
      "text/html": [
       "<div>\n",
       "<table border=\"1\" class=\"dataframe\">\n",
       "  <thead>\n",
       "    <tr style=\"text-align: right;\">\n",
       "      <th></th>\n",
       "      <th>inning_number</th>\n",
       "      <th>outs_ct</th>\n",
       "      <th>bat_box_name</th>\n",
       "      <th>ab_number</th>\n",
       "      <th>pa_event_cd</th>\n",
       "      <th>pitch_seq</th>\n",
       "      <th>pitch_res</th>\n",
       "      <th>start_speed</th>\n",
       "      <th>end_speed</th>\n",
       "      <th>sz_top</th>\n",
       "      <th>sz_bot</th>\n",
       "      <th>px</th>\n",
       "      <th>pz</th>\n",
       "      <th>pitch_type</th>\n",
       "      <th>pitch_type_seq</th>\n",
       "      <th>zone</th>\n",
       "    </tr>\n",
       "  </thead>\n",
       "  <tbody>\n",
       "    <tr>\n",
       "      <th>824</th>\n",
       "      <td>1</td>\n",
       "      <td>2</td>\n",
       "      <td>Davis, K</td>\n",
       "      <td>4</td>\n",
       "      <td>14</td>\n",
       "      <td>B</td>\n",
       "      <td>B</td>\n",
       "      <td>93.5</td>\n",
       "      <td>87.6</td>\n",
       "      <td>3.57</td>\n",
       "      <td>1.61</td>\n",
       "      <td>-0.801</td>\n",
       "      <td>1.196</td>\n",
       "      <td>FT</td>\n",
       "      <td>FT</td>\n",
       "      <td>13.0</td>\n",
       "    </tr>\n",
       "    <tr>\n",
       "      <th>825</th>\n",
       "      <td>1</td>\n",
       "      <td>2</td>\n",
       "      <td>Davis, K</td>\n",
       "      <td>4</td>\n",
       "      <td>14</td>\n",
       "      <td>BS</td>\n",
       "      <td>S</td>\n",
       "      <td>93.7</td>\n",
       "      <td>86.8</td>\n",
       "      <td>3.57</td>\n",
       "      <td>1.61</td>\n",
       "      <td>-0.920</td>\n",
       "      <td>1.912</td>\n",
       "      <td>FT</td>\n",
       "      <td>FT|FT</td>\n",
       "      <td>13.0</td>\n",
       "    </tr>\n",
       "    <tr>\n",
       "      <th>826</th>\n",
       "      <td>1</td>\n",
       "      <td>2</td>\n",
       "      <td>Davis, K</td>\n",
       "      <td>4</td>\n",
       "      <td>14</td>\n",
       "      <td>BSB</td>\n",
       "      <td>B</td>\n",
       "      <td>92.6</td>\n",
       "      <td>86.2</td>\n",
       "      <td>3.57</td>\n",
       "      <td>1.61</td>\n",
       "      <td>-0.697</td>\n",
       "      <td>1.006</td>\n",
       "      <td>FT</td>\n",
       "      <td>FT|FT|FT</td>\n",
       "      <td>13.0</td>\n",
       "    </tr>\n",
       "    <tr>\n",
       "      <th>827</th>\n",
       "      <td>1</td>\n",
       "      <td>2</td>\n",
       "      <td>Davis, K</td>\n",
       "      <td>4</td>\n",
       "      <td>14</td>\n",
       "      <td>BSBB</td>\n",
       "      <td>B</td>\n",
       "      <td>93.0</td>\n",
       "      <td>86.1</td>\n",
       "      <td>3.45</td>\n",
       "      <td>1.61</td>\n",
       "      <td>-0.892</td>\n",
       "      <td>3.893</td>\n",
       "      <td>FF</td>\n",
       "      <td>FT|FT|FT|FF</td>\n",
       "      <td>11.0</td>\n",
       "    </tr>\n",
       "    <tr>\n",
       "      <th>828</th>\n",
       "      <td>1</td>\n",
       "      <td>2</td>\n",
       "      <td>Davis, K</td>\n",
       "      <td>4</td>\n",
       "      <td>14</td>\n",
       "      <td>BSBBS</td>\n",
       "      <td>S</td>\n",
       "      <td>93.1</td>\n",
       "      <td>86.3</td>\n",
       "      <td>3.57</td>\n",
       "      <td>1.61</td>\n",
       "      <td>0.194</td>\n",
       "      <td>2.824</td>\n",
       "      <td>FF</td>\n",
       "      <td>FT|FT|FT|FF|FF</td>\n",
       "      <td>5.0</td>\n",
       "    </tr>\n",
       "    <tr>\n",
       "      <th>829</th>\n",
       "      <td>1</td>\n",
       "      <td>2</td>\n",
       "      <td>Davis, K</td>\n",
       "      <td>4</td>\n",
       "      <td>14</td>\n",
       "      <td>BSBBSB</td>\n",
       "      <td>B</td>\n",
       "      <td>94.3</td>\n",
       "      <td>86.7</td>\n",
       "      <td>3.58</td>\n",
       "      <td>1.61</td>\n",
       "      <td>-1.464</td>\n",
       "      <td>2.495</td>\n",
       "      <td>FF</td>\n",
       "      <td>FT|FT|FT|FF|FF|FF</td>\n",
       "      <td>13.0</td>\n",
       "    </tr>\n",
       "  </tbody>\n",
       "</table>\n",
       "</div>"
      ],
      "text/plain": [
       "     inning_number  outs_ct bat_box_name  ab_number  pa_event_cd pitch_seq  \\\n",
       "824              1        2     Davis, K          4           14         B   \n",
       "825              1        2     Davis, K          4           14        BS   \n",
       "826              1        2     Davis, K          4           14       BSB   \n",
       "827              1        2     Davis, K          4           14      BSBB   \n",
       "828              1        2     Davis, K          4           14     BSBBS   \n",
       "829              1        2     Davis, K          4           14    BSBBSB   \n",
       "\n",
       "    pitch_res  start_speed  end_speed  sz_top  sz_bot     px     pz  \\\n",
       "824         B         93.5       87.6    3.57    1.61 -0.801  1.196   \n",
       "825         S         93.7       86.8    3.57    1.61 -0.920  1.912   \n",
       "826         B         92.6       86.2    3.57    1.61 -0.697  1.006   \n",
       "827         B         93.0       86.1    3.45    1.61 -0.892  3.893   \n",
       "828         S         93.1       86.3    3.57    1.61  0.194  2.824   \n",
       "829         B         94.3       86.7    3.58    1.61 -1.464  2.495   \n",
       "\n",
       "    pitch_type     pitch_type_seq  zone  \n",
       "824         FT                 FT  13.0  \n",
       "825         FT              FT|FT  13.0  \n",
       "826         FT           FT|FT|FT  13.0  \n",
       "827         FF        FT|FT|FT|FF  11.0  \n",
       "828         FF     FT|FT|FT|FF|FF   5.0  \n",
       "829         FF  FT|FT|FT|FF|FF|FF  13.0  "
      ]
     },
     "execution_count": 38,
     "metadata": {},
     "output_type": "execute_result"
    }
   ],
   "source": [
    "df_tex201608170_davis_k"
   ]
  },
  {
   "cell_type": "code",
   "execution_count": null,
   "metadata": {
    "collapsed": true
   },
   "outputs": [],
   "source": []
  }
 ],
 "metadata": {
  "kernelspec": {
   "display_name": "Python 3",
   "language": "python",
   "name": "python3"
  },
  "language_info": {
   "codemirror_mode": {
    "name": "ipython",
    "version": 3
   },
   "file_extension": ".py",
   "mimetype": "text/x-python",
   "name": "python",
   "nbconvert_exporter": "python",
   "pygments_lexer": "ipython3",
   "version": "3.5.2"
  }
 },
 "nbformat": 4,
 "nbformat_minor": 1
}
